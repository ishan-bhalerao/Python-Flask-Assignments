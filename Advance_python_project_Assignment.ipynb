{
 "cells": [
  {
   "cell_type": "markdown",
   "id": "ea5dd99d-fddf-43ab-9761-b5a4d60db498",
   "metadata": {},
   "source": [
    "# 1. Build a Flask app that scrapes data from multiple websites and displays it on your site.\n",
    "#You can try to scrap websites like youtube , amazon and show data on output pages and deploy it on cloud\n",
    "#platform .\n",
    "\n",
    "from flask import Flask, render_template, request\n",
    "import requests\n",
    "\n",
    "app = Flask(__name__)\n",
    "\n",
    "@app.route('/')\n",
    "def index():\n",
    "    return render_template('index.html')\n",
    "\n",
    "@app.route('/search', methods=['POST'])\n",
    "def search():\n",
    "    keyword = request.form['keyword']\n",
    "    movies = search_movies(keyword)\n",
    "    return render_template('result.html', movies=movies)\n",
    "\n",
    "def search_movies(keyword):\n",
    "    api_key = 'YOUR_OMDB_API_KEY'\n",
    "    url = f'http://www.omdbapi.com/?s={keyword}&apikey={api_key}'\n",
    "    response = requests.get(url)\n",
    "    data = response.json()\n",
    "    return data.get('Search', [])\n",
    "\n",
    "if __name__ == '__main__':\n",
    "    app.run(debug=True)\n",
    "    \n",
    "<!DOCTYPE html>\n",
    "<html lang=\"en\">\n",
    "<head>\n",
    "    <meta charset=\"UTF-8\">\n",
    "    <meta name=\"viewport\" content=\"width=device-width, initial-scale=1.0\">\n",
    "    <title>Web Scraping Example</title>\n",
    "</head>\n",
    "<body>\n",
    "    <h1>Web Scraping Example</h1>\n",
    "    <form action=\"/search\" method=\"post\">\n",
    "        <label for=\"keyword\">Search movies:</label>\n",
    "        <input type=\"text\" name=\"keyword\" required>\n",
    "        <button type=\"submit\">Search</button>\n",
    "    </form>\n",
    "</body>\n",
    "</html>\n",
    "\n"
   ]
  }
 ],
 "metadata": {
  "kernelspec": {
   "display_name": "Python 3 (ipykernel)",
   "language": "python",
   "name": "python3"
  },
  "language_info": {
   "codemirror_mode": {
    "name": "ipython",
    "version": 3
   },
   "file_extension": ".py",
   "mimetype": "text/x-python",
   "name": "python",
   "nbconvert_exporter": "python",
   "pygments_lexer": "ipython3",
   "version": "3.10.8"
  }
 },
 "nbformat": 4,
 "nbformat_minor": 5
}
